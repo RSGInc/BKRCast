{
 "cells": [
  {
   "cell_type": "code",
   "execution_count": 1,
   "metadata": {
    "collapsed": false
   },
   "outputs": [
    {
     "data": {
      "text/html": [
       "<script>\n",
       "code_show=true; \n",
       "function code_toggle() {\n",
       " if (code_show){\n",
       " $('div.input').hide();\n",
       " } else {\n",
       " $('div.input').show();\n",
       " }\n",
       " code_show = !code_show\n",
       "} \n",
       "$( document ).ready(code_toggle);\n",
       "</script>\n",
       "<form action=\"javascript:code_toggle()\"><input type=\"submit\" value=\"Click here to toggle on/off the raw code.\"></form>"
      ],
      "text/plain": [
       "<IPython.core.display.HTML object>"
      ]
     },
     "execution_count": 1,
     "metadata": {},
     "output_type": "execute_result"
    }
   ],
   "source": [
    "import pandas as pd\n",
    "import os, time\n",
    "import h5py\n",
    "\n",
    "%matplotlib inline\n",
    "\n",
    "from IPython.display import display, HTML\n",
    "\n",
    "HTML('''<script>\n",
    "code_show=true; \n",
    "function code_toggle() {\n",
    " if (code_show){\n",
    " $('div.input').hide();\n",
    " } else {\n",
    " $('div.input').show();\n",
    " }\n",
    " code_show = !code_show\n",
    "} \n",
    "$( document ).ready(code_toggle);\n",
    "</script>\n",
    "<form action=\"javascript:code_toggle()\"><input type=\"submit\" value=\"Click here to toggle on/off the raw code.\"></form>''')"
   ]
  },
  {
   "cell_type": "code",
   "execution_count": 2,
   "metadata": {
    "collapsed": false
   },
   "outputs": [
    {
     "name": "stdout",
     "output_type": "stream",
     "text": [
      "Summary run: Wed, 08 Aug 2018 10:03:15\n"
     ]
    }
   ],
   "source": [
    "# Create timestamp to show when this summary was run\n",
    "print 'Summary run: ' + time.strftime(\"%a, %d %b %Y %H:%M:%S\")"
   ]
  },
  {
   "cell_type": "code",
   "execution_count": 3,
   "metadata": {
    "collapsed": false
   },
   "outputs": [
    {
     "data": {
      "text/html": [
       "<style>\n",
       ".output {\n",
       "    flex-direction: row;\n",
       "}\n",
       "</style>"
      ],
      "text/plain": [
       "<IPython.core.display.HTML object>"
      ]
     },
     "execution_count": 3,
     "metadata": {},
     "output_type": "execute_result"
    }
   ],
   "source": [
    "CSS = \"\"\"\n",
    ".output {\n",
    "    flex-direction: row;\n",
    "}\n",
    "\"\"\"\n",
    "\n",
    "HTML('<style>{}</style>'.format(CSS))"
   ]
  },
  {
   "cell_type": "code",
   "execution_count": 4,
   "metadata": {
    "collapsed": true
   },
   "outputs": [],
   "source": [
    "pd.options.display.float_format = '{:0,.0f}'.format"
   ]
  },
  {
   "cell_type": "code",
   "execution_count": 5,
   "metadata": {
    "collapsed": true
   },
   "outputs": [],
   "source": [
    "# Relative path between notebooks and goruped output directories\n",
    "relative_path = '../../../outputs'"
   ]
  },
  {
   "cell_type": "code",
   "execution_count": 6,
   "metadata": {
    "collapsed": true
   },
   "outputs": [],
   "source": [
    "tod_dict = {\n",
    "    '5to6': 'AM',\n",
    "    '6to7': 'AM',\n",
    "    '7to8': 'AM',\n",
    "    '8to9': 'AM',\n",
    "    '9to10': 'Mid-Day',\n",
    "    '10to14': 'Mid-Day',\n",
    "    '14to15': 'Mid-Day',\n",
    "    '15to16': 'PM',\n",
    "    '16to17': 'PM',\n",
    "    '17to18': 'PM',\n",
    "    '18to20': 'Evening',\n",
    "    '20to5': 'Night'\n",
    "}"
   ]
  },
  {
   "cell_type": "code",
   "execution_count": 7,
   "metadata": {
    "collapsed": true
   },
   "outputs": [],
   "source": [
    "# Load Network Summary sheet from network_summary_detailed\n",
    "df = pd.read_excel(os.path.join(relative_path,'network/') + r'network_summary_detailed.xlsx',\n",
    "                  sheetname='Network Summary')\n",
    "df.rename(columns={'TP_4k': 'Time Period'}, inplace=True)\n",
    "df['Time Period'] = df['Time Period'].apply(lambda row: row.upper())"
   ]
  },
  {
   "cell_type": "markdown",
   "metadata": {},
   "source": [
    "## Vehicle Miles Traveled (VMT)"
   ]
  },
  {
   "cell_type": "code",
   "execution_count": 8,
   "metadata": {
    "collapsed": false
   },
   "outputs": [
    {
     "data": {
      "text/html": [
       "<div>\n",
       "<table border=\"1\" class=\"dataframe\">\n",
       "  <thead>\n",
       "    <tr style=\"text-align: right;\">\n",
       "      <th></th>\n",
       "      <th>VMT</th>\n",
       "    </tr>\n",
       "    <tr>\n",
       "      <th>Facility Type</th>\n",
       "      <th></th>\n",
       "    </tr>\n",
       "  </thead>\n",
       "  <tbody>\n",
       "    <tr>\n",
       "      <th>arterial_vmt</th>\n",
       "      <td>42,916,640</td>\n",
       "    </tr>\n",
       "    <tr>\n",
       "      <th>highway_vmt</th>\n",
       "      <td>48,460,370</td>\n",
       "    </tr>\n",
       "    <tr>\n",
       "      <th>connectors_vmt</th>\n",
       "      <td>6,038,678</td>\n",
       "    </tr>\n",
       "    <tr>\n",
       "      <th>Total</th>\n",
       "      <td>97,415,689</td>\n",
       "    </tr>\n",
       "  </tbody>\n",
       "</table>\n",
       "</div>"
      ],
      "text/plain": [
       "                      VMT\n",
       "Facility Type            \n",
       "arterial_vmt   42,916,640\n",
       "highway_vmt    48,460,370\n",
       "connectors_vmt  6,038,678\n",
       "Total          97,415,689"
      ]
     },
     "metadata": {},
     "output_type": "display_data"
    },
    {
     "data": {
      "text/html": [
       "<div>\n",
       "<table border=\"1\" class=\"dataframe\">\n",
       "  <thead>\n",
       "    <tr style=\"text-align: right;\">\n",
       "      <th></th>\n",
       "      <th>VMT</th>\n",
       "    </tr>\n",
       "    <tr>\n",
       "      <th>Time Period</th>\n",
       "      <th></th>\n",
       "    </tr>\n",
       "  </thead>\n",
       "  <tbody>\n",
       "    <tr>\n",
       "      <th>AM</th>\n",
       "      <td>22,561,758</td>\n",
       "    </tr>\n",
       "    <tr>\n",
       "      <th>EV</th>\n",
       "      <td>12,146,786</td>\n",
       "    </tr>\n",
       "    <tr>\n",
       "      <th>MD</th>\n",
       "      <td>32,920,294</td>\n",
       "    </tr>\n",
       "    <tr>\n",
       "      <th>NI</th>\n",
       "      <td>7,090,228</td>\n",
       "    </tr>\n",
       "    <tr>\n",
       "      <th>PM</th>\n",
       "      <td>22,696,623</td>\n",
       "    </tr>\n",
       "    <tr>\n",
       "      <th>Total</th>\n",
       "      <td>97,415,689</td>\n",
       "    </tr>\n",
       "  </tbody>\n",
       "</table>\n",
       "</div>"
      ],
      "text/plain": [
       "                   VMT\n",
       "Time Period           \n",
       "AM          22,561,758\n",
       "EV          12,146,786\n",
       "MD          32,920,294\n",
       "NI           7,090,228\n",
       "PM          22,696,623\n",
       "Total       97,415,689"
      ]
     },
     "metadata": {},
     "output_type": "display_data"
    }
   ],
   "source": [
    "df_tod = df.groupby(['Time Period']).sum()[['arterial_vmt','connectors_vmt','highway_vmt']]\n",
    "df_tod['VMT'] = df_tod.sum(axis=1)\n",
    "df_tod.loc['Total'] = df_tod.sum()\n",
    "df_tod = df_tod[['VMT']]\n",
    "\n",
    "# Save total VMT for later use\n",
    "total_vmt = df_tod.loc['Total'].values[0]\n",
    "\n",
    "df_fac = pd.DataFrame(df.sum()[['arterial_vmt','highway_vmt','connectors_vmt']])\n",
    "df_fac = df_fac.reset_index()\n",
    "df_fac.columns = ['Facility Type', 'VMT']\n",
    "df_fac.index = df_fac['Facility Type']\n",
    "df_fac.drop('Facility Type', axis=1, inplace=True)\n",
    "df_fac.loc['Total'] = df_fac.sum()\n",
    "\n",
    "display(df_fac)\n",
    "display(df_tod)"
   ]
  },
  {
   "cell_type": "markdown",
   "metadata": {},
   "source": [
    "## Vehicle Hours Traveled (VHT)"
   ]
  },
  {
   "cell_type": "code",
   "execution_count": 9,
   "metadata": {
    "collapsed": false
   },
   "outputs": [
    {
     "data": {
      "text/html": [
       "<div>\n",
       "<table border=\"1\" class=\"dataframe\">\n",
       "  <thead>\n",
       "    <tr style=\"text-align: right;\">\n",
       "      <th></th>\n",
       "      <th>VHT</th>\n",
       "    </tr>\n",
       "    <tr>\n",
       "      <th>Facility Type</th>\n",
       "      <th></th>\n",
       "    </tr>\n",
       "  </thead>\n",
       "  <tbody>\n",
       "    <tr>\n",
       "      <th>arterial_vht</th>\n",
       "      <td>1,516,650</td>\n",
       "    </tr>\n",
       "    <tr>\n",
       "      <th>highway_vht</th>\n",
       "      <td>1,209,523</td>\n",
       "    </tr>\n",
       "    <tr>\n",
       "      <th>connectors_vht</th>\n",
       "      <td>381,840</td>\n",
       "    </tr>\n",
       "    <tr>\n",
       "      <th>Total</th>\n",
       "      <td>3,108,013</td>\n",
       "    </tr>\n",
       "  </tbody>\n",
       "</table>\n",
       "</div>"
      ],
      "text/plain": [
       "                     VHT\n",
       "Facility Type           \n",
       "arterial_vht   1,516,650\n",
       "highway_vht    1,209,523\n",
       "connectors_vht   381,840\n",
       "Total          3,108,013"
      ]
     },
     "metadata": {},
     "output_type": "display_data"
    },
    {
     "data": {
      "text/html": [
       "<div>\n",
       "<table border=\"1\" class=\"dataframe\">\n",
       "  <thead>\n",
       "    <tr style=\"text-align: right;\">\n",
       "      <th></th>\n",
       "      <th>VHT</th>\n",
       "    </tr>\n",
       "    <tr>\n",
       "      <th>Time Period</th>\n",
       "      <th></th>\n",
       "    </tr>\n",
       "  </thead>\n",
       "  <tbody>\n",
       "    <tr>\n",
       "      <th>AM</th>\n",
       "      <td>742,043</td>\n",
       "    </tr>\n",
       "    <tr>\n",
       "      <th>EV</th>\n",
       "      <td>406,049</td>\n",
       "    </tr>\n",
       "    <tr>\n",
       "      <th>MD</th>\n",
       "      <td>977,470</td>\n",
       "    </tr>\n",
       "    <tr>\n",
       "      <th>NI</th>\n",
       "      <td>180,893</td>\n",
       "    </tr>\n",
       "    <tr>\n",
       "      <th>PM</th>\n",
       "      <td>801,558</td>\n",
       "    </tr>\n",
       "    <tr>\n",
       "      <th>Total</th>\n",
       "      <td>3,108,013</td>\n",
       "    </tr>\n",
       "  </tbody>\n",
       "</table>\n",
       "</div>"
      ],
      "text/plain": [
       "                  VHT\n",
       "Time Period          \n",
       "AM            742,043\n",
       "EV            406,049\n",
       "MD            977,470\n",
       "NI            180,893\n",
       "PM            801,558\n",
       "Total       3,108,013"
      ]
     },
     "metadata": {},
     "output_type": "display_data"
    }
   ],
   "source": [
    "df_tod = df.groupby(['Time Period']).sum()[['arterial_vht','connectors_vht','highway_vht']]\n",
    "df_tod['VHT'] = df_tod.sum(axis=1)\n",
    "df_tod.loc['Total'] = df_tod.sum()\n",
    "df_tod = df_tod[['VHT']]\n",
    "\n",
    "df_fac = pd.DataFrame(df.sum()[['arterial_vht','highway_vht','connectors_vht']])\n",
    "df_fac = df_fac.reset_index()\n",
    "df_fac.columns = ['Facility Type', 'VHT']\n",
    "df_fac.index = df_fac['Facility Type']\n",
    "df_fac.drop('Facility Type', axis=1, inplace=True)\n",
    "df_fac.loc['Total'] = df_fac.sum()\n",
    "\n",
    "display(df_fac)\n",
    "display(df_tod)"
   ]
  },
  {
   "cell_type": "markdown",
   "metadata": {},
   "source": [
    "## Delay"
   ]
  },
  {
   "cell_type": "code",
   "execution_count": 10,
   "metadata": {
    "collapsed": false
   },
   "outputs": [
    {
     "data": {
      "text/html": [
       "<div>\n",
       "<table border=\"1\" class=\"dataframe\">\n",
       "  <thead>\n",
       "    <tr style=\"text-align: right;\">\n",
       "      <th></th>\n",
       "      <th>Delay</th>\n",
       "    </tr>\n",
       "    <tr>\n",
       "      <th>Facility Type</th>\n",
       "      <th></th>\n",
       "    </tr>\n",
       "  </thead>\n",
       "  <tbody>\n",
       "    <tr>\n",
       "      <th>arterial_delay</th>\n",
       "      <td>339,557</td>\n",
       "    </tr>\n",
       "    <tr>\n",
       "      <th>highway_delay</th>\n",
       "      <td>357,814</td>\n",
       "    </tr>\n",
       "    <tr>\n",
       "      <th>Total</th>\n",
       "      <td>697,371</td>\n",
       "    </tr>\n",
       "  </tbody>\n",
       "</table>\n",
       "</div>"
      ],
      "text/plain": [
       "                 Delay\n",
       "Facility Type         \n",
       "arterial_delay 339,557\n",
       "highway_delay  357,814\n",
       "Total          697,371"
      ]
     },
     "metadata": {},
     "output_type": "display_data"
    },
    {
     "data": {
      "text/html": [
       "<div>\n",
       "<table border=\"1\" class=\"dataframe\">\n",
       "  <thead>\n",
       "    <tr style=\"text-align: right;\">\n",
       "      <th></th>\n",
       "      <th>Delay</th>\n",
       "    </tr>\n",
       "    <tr>\n",
       "      <th>Time Period</th>\n",
       "      <th></th>\n",
       "    </tr>\n",
       "  </thead>\n",
       "  <tbody>\n",
       "    <tr>\n",
       "      <th>AM</th>\n",
       "      <td>202,060</td>\n",
       "    </tr>\n",
       "    <tr>\n",
       "      <th>EV</th>\n",
       "      <td>89,857</td>\n",
       "    </tr>\n",
       "    <tr>\n",
       "      <th>MD</th>\n",
       "      <td>160,938</td>\n",
       "    </tr>\n",
       "    <tr>\n",
       "      <th>NI</th>\n",
       "      <td>12,598</td>\n",
       "    </tr>\n",
       "    <tr>\n",
       "      <th>PM</th>\n",
       "      <td>231,917</td>\n",
       "    </tr>\n",
       "    <tr>\n",
       "      <th>Total</th>\n",
       "      <td>697,371</td>\n",
       "    </tr>\n",
       "  </tbody>\n",
       "</table>\n",
       "</div>"
      ],
      "text/plain": [
       "              Delay\n",
       "Time Period        \n",
       "AM          202,060\n",
       "EV           89,857\n",
       "MD          160,938\n",
       "NI           12,598\n",
       "PM          231,917\n",
       "Total       697,371"
      ]
     },
     "metadata": {},
     "output_type": "display_data"
    }
   ],
   "source": [
    "df_tod = df.groupby(['Time Period']).sum()[['arterial_delay','connectors_delay','highway_delay']]\n",
    "df_tod['Delay'] = df_tod.sum(axis=1)\n",
    "df_tod.loc['Total'] = df_tod.sum()\n",
    "df_tod = df_tod[['Delay']]\n",
    "\n",
    "df_fac = pd.DataFrame(df.sum()[['arterial_delay','highway_delay']])\n",
    "df_fac = df_fac.reset_index()\n",
    "df_fac.columns = ['Facility Type', 'Delay']\n",
    "df_fac.index = df_fac['Facility Type']\n",
    "df_fac.drop('Facility Type', axis=1, inplace=True)\n",
    "df_fac.loc['Total'] = df_fac.sum()\n",
    "\n",
    "display(df_fac)\n",
    "display(df_tod)"
   ]
  },
  {
   "cell_type": "markdown",
   "metadata": {},
   "source": [
    "## VMT per Person"
   ]
  },
  {
   "cell_type": "code",
   "execution_count": 11,
   "metadata": {
    "collapsed": false
   },
   "outputs": [],
   "source": [
    "# Load Daysim results\n",
    "trip = pd.read_csv(os.path.join(relative_path,r'daysim/') + r'_trip.tsv', sep='\\t')\n",
    "person = pd.read_csv(os.path.join(relative_path,r'daysim/') + r'_person.tsv', sep='\\t')"
   ]
  },
  {
   "cell_type": "code",
   "execution_count": 12,
   "metadata": {
    "collapsed": true
   },
   "outputs": [],
   "source": [
    "# Load survey results\n",
    "surveyh5 = h5py.File(os.path.join(relative_path,r'../scripts/summarize/inputs/calibration/survey.h5'))"
   ]
  },
  {
   "cell_type": "code",
   "execution_count": 13,
   "metadata": {
    "collapsed": true
   },
   "outputs": [],
   "source": [
    "survey_trip = pd.DataFrame()\n",
    "survey_person = pd.DataFrame()\n",
    "for col in surveyh5['Trip'].keys():\n",
    "    survey_trip[col] = surveyh5['Trip'][col][:]\n",
    "    \n",
    "for col in surveyh5['Person'].keys():\n",
    "    survey_person[col] = surveyh5['Person'][col][:]"
   ]
  },
  {
   "cell_type": "code",
   "execution_count": 14,
   "metadata": {
    "collapsed": false
   },
   "outputs": [
    {
     "data": {
      "text/html": [
       "<div>\n",
       "<table border=\"1\" class=\"dataframe\">\n",
       "  <thead>\n",
       "    <tr style=\"text-align: right;\">\n",
       "      <th></th>\n",
       "      <th>Average VMT per Capita</th>\n",
       "    </tr>\n",
       "  </thead>\n",
       "  <tbody>\n",
       "    <tr>\n",
       "      <th>0</th>\n",
       "      <td>20.07</td>\n",
       "    </tr>\n",
       "  </tbody>\n",
       "</table>\n",
       "</div>"
      ],
      "text/plain": [
       "   Average VMT per Capita\n",
       "0                   20.07"
      ]
     },
     "execution_count": 14,
     "metadata": {},
     "output_type": "execute_result"
    }
   ],
   "source": [
    "pd.options.display.float_format = '{:0,.2f}'.format\n",
    "\n",
    "\n",
    "# This is average trips\n",
    "# model_value = trip['trexpfac'].sum()/person['psexpfac'].sum()\n",
    "# survey_value = survey_trip['trexpfac'].sum()/survey_person['psexpfac'].sum()\n",
    "\n",
    "_df = pd.DataFrame([total_vmt/person['psexpfac'].sum()])\n",
    "_df.columns = ['Average VMT per Capita']\n",
    "_df\n",
    "\n"
   ]
  },
  {
   "cell_type": "markdown",
   "metadata": {},
   "source": [
    "## Trips per Person"
   ]
  },
  {
   "cell_type": "code",
   "execution_count": 15,
   "metadata": {
    "collapsed": false
   },
   "outputs": [
    {
     "data": {
      "text/html": [
       "<div>\n",
       "<table border=\"1\" class=\"dataframe\">\n",
       "  <thead>\n",
       "    <tr style=\"text-align: right;\">\n",
       "      <th></th>\n",
       "      <th>Total Trips per Capita</th>\n",
       "    </tr>\n",
       "  </thead>\n",
       "  <tbody>\n",
       "    <tr>\n",
       "      <th>Model</th>\n",
       "      <td>3.90</td>\n",
       "    </tr>\n",
       "    <tr>\n",
       "      <th>Survey</th>\n",
       "      <td>4.54</td>\n",
       "    </tr>\n",
       "  </tbody>\n",
       "</table>\n",
       "</div>"
      ],
      "text/plain": [
       "        Total Trips per Capita\n",
       "Model                     3.90\n",
       "Survey                    4.54"
      ]
     },
     "execution_count": 15,
     "metadata": {},
     "output_type": "execute_result"
    }
   ],
   "source": [
    "model_result = (trip['trexpfac'].sum()*1.0)/person['psexpfac'].sum()\n",
    "survey_result = (survey_trip['trexpfac'].sum()*1.0)/survey_person['psexpfac'].sum()\n",
    "\n",
    "_df = pd.DataFrame([model_result,survey_result])\n",
    "_df.columns = ['Total Trips per Capita']\n",
    "_df.index = ['Model', 'Survey']\n",
    "_df"
   ]
  },
  {
   "cell_type": "markdown",
   "metadata": {},
   "source": [
    "## Average Trip Length"
   ]
  },
  {
   "cell_type": "code",
   "execution_count": 16,
   "metadata": {
    "collapsed": false
   },
   "outputs": [
    {
     "data": {
      "text/html": [
       "<div>\n",
       "<table border=\"1\" class=\"dataframe\">\n",
       "  <thead>\n",
       "    <tr style=\"text-align: right;\">\n",
       "      <th></th>\n",
       "      <th>Average Trip Length</th>\n",
       "    </tr>\n",
       "  </thead>\n",
       "  <tbody>\n",
       "    <tr>\n",
       "      <th>Model</th>\n",
       "      <td>5.33</td>\n",
       "    </tr>\n",
       "    <tr>\n",
       "      <th>Survey</th>\n",
       "      <td>5.74</td>\n",
       "    </tr>\n",
       "  </tbody>\n",
       "</table>\n",
       "</div>"
      ],
      "text/plain": [
       "        Average Trip Length\n",
       "Model                  5.33\n",
       "Survey                 5.74"
      ]
     },
     "execution_count": 16,
     "metadata": {},
     "output_type": "execute_result"
    }
   ],
   "source": [
    "model_result = (trip['travdist']*trip['trexpfac']).sum()/trip['trexpfac'].sum()\n",
    "survey_result = (survey_trip['travdist']*survey_trip['trexpfac']).sum()/survey_trip['trexpfac'].sum()\n",
    "\n",
    "_df = pd.DataFrame([model_result,survey_result])\n",
    "_df.columns = ['Average Trip Length']\n",
    "_df.index = ['Model','Survey']\n",
    "_df"
   ]
  },
  {
   "cell_type": "markdown",
   "metadata": {},
   "source": [
    "## Trip Mode Share"
   ]
  },
  {
   "cell_type": "code",
   "execution_count": 17,
   "metadata": {
    "collapsed": false
   },
   "outputs": [
    {
     "data": {
      "text/html": [
       "<div>\n",
       "<table border=\"1\" class=\"dataframe\">\n",
       "  <thead>\n",
       "    <tr style=\"text-align: right;\">\n",
       "      <th></th>\n",
       "      <th>Model</th>\n",
       "      <th>Survey</th>\n",
       "    </tr>\n",
       "    <tr>\n",
       "      <th>mode</th>\n",
       "      <th></th>\n",
       "      <th></th>\n",
       "    </tr>\n",
       "  </thead>\n",
       "  <tbody>\n",
       "    <tr>\n",
       "      <th>Walk</th>\n",
       "      <td>18.9%</td>\n",
       "      <td>12.5%</td>\n",
       "    </tr>\n",
       "    <tr>\n",
       "      <th>Bike</th>\n",
       "      <td>2.0%</td>\n",
       "      <td>1.3%</td>\n",
       "    </tr>\n",
       "    <tr>\n",
       "      <th>SOV</th>\n",
       "      <td>37.4%</td>\n",
       "      <td>40.8%</td>\n",
       "    </tr>\n",
       "    <tr>\n",
       "      <th>HOV2</th>\n",
       "      <td>21.0%</td>\n",
       "      <td>22.0%</td>\n",
       "    </tr>\n",
       "    <tr>\n",
       "      <th>HOV3+</th>\n",
       "      <td>14.2%</td>\n",
       "      <td>15.8%</td>\n",
       "    </tr>\n",
       "    <tr>\n",
       "      <th>Transit</th>\n",
       "      <td>4.5%</td>\n",
       "      <td>4.9%</td>\n",
       "    </tr>\n",
       "    <tr>\n",
       "      <th>School Bus</th>\n",
       "      <td>2.0%</td>\n",
       "      <td>2.2%</td>\n",
       "    </tr>\n",
       "  </tbody>\n",
       "</table>\n",
       "</div>"
      ],
      "text/plain": [
       "            Model  Survey\n",
       "mode                     \n",
       "Walk        18.9%   12.5%\n",
       "Bike         2.0%    1.3%\n",
       "SOV         37.4%   40.8%\n",
       "HOV2        21.0%   22.0%\n",
       "HOV3+       14.2%   15.8%\n",
       "Transit      4.5%    4.9%\n",
       "School Bus   2.0%    2.2%"
      ]
     },
     "metadata": {},
     "output_type": "display_data"
    },
    {
     "data": {
      "image/png": "[encoded data removed]",
      "text/plain": [
       "<matplotlib.figure.Figure at 0xbd8f630>"
      ]
     },
     "metadata": {},
     "output_type": "display_data"
    }
   ],
   "source": [
    "pd.options.display.float_format = '{:,.1%}'.format\n",
    "model_df = trip[['mode','trexpfac']].groupby('mode').sum()[['trexpfac']]/trip[['trexpfac']].sum()\n",
    "model_df = model_df.reset_index()\n",
    "survey_df = survey_trip[['mode','trexpfac']].groupby('mode').sum()[['trexpfac']]/survey_trip[['trexpfac']].sum()\n",
    "survey_df = survey_df.reset_index()\n",
    "_df = pd.merge(model_df, survey_df, on='mode', how='left')\n",
    "_df.columns = ['mode','Model', 'Survey']\n",
    "# _df = trip[['mode','trexpfac']].groupby('mode').sum()[['trexpfac']]/trip[['trexpfac']].sum()\n",
    "# _df = _df.reset_index()\n",
    "mode_dict = {0:'Other',1:'Walk',2:'Bike',3:'SOV',4:'HOV2',5:'HOV3+',6:'Transit',8:'School Bus'}\n",
    "_df.replace({'mode':mode_dict}, inplace=True)\n",
    "_df.index = _df['mode']\n",
    "_df.drop('mode', axis=1, inplace=True)\n",
    "dfplot = _df.drop('Other', axis=0)\n",
    "dfplot.plot(kind='barh', alpha=0.6, figsize=(10,5))\n",
    "display(dfplot)\n"
   ]
  },
  {
   "cell_type": "code",
   "execution_count": 18,
   "metadata": {
    "collapsed": false
   },
   "outputs": [
    {
     "data": {
      "text/html": [
       "<div>\n",
       "<table border=\"1\" class=\"dataframe\">\n",
       "  <thead>\n",
       "    <tr style=\"text-align: right;\">\n",
       "      <th></th>\n",
       "      <th>mode</th>\n",
       "      <th>share</th>\n",
       "    </tr>\n",
       "  </thead>\n",
       "  <tbody>\n",
       "    <tr>\n",
       "      <th>0</th>\n",
       "      <td>Walk</td>\n",
       "      <td>7.8%</td>\n",
       "    </tr>\n",
       "    <tr>\n",
       "      <th>1</th>\n",
       "      <td>Bike</td>\n",
       "      <td>3.9%</td>\n",
       "    </tr>\n",
       "    <tr>\n",
       "      <th>2</th>\n",
       "      <td>SOV</td>\n",
       "      <td>66.2%</td>\n",
       "    </tr>\n",
       "    <tr>\n",
       "      <th>3</th>\n",
       "      <td>HOV2</td>\n",
       "      <td>9.0%</td>\n",
       "    </tr>\n",
       "    <tr>\n",
       "      <th>4</th>\n",
       "      <td>HOV3+</td>\n",
       "      <td>4.0%</td>\n",
       "    </tr>\n",
       "    <tr>\n",
       "      <th>5</th>\n",
       "      <td>Transit</td>\n",
       "      <td>9.2%</td>\n",
       "    </tr>\n",
       "    <tr>\n",
       "      <th>6</th>\n",
       "      <td>School Bus</td>\n",
       "      <td>0.0%</td>\n",
       "    </tr>\n",
       "  </tbody>\n",
       "</table>\n",
       "</div>"
      ],
      "text/plain": [
       "         mode  share\n",
       "0        Walk   7.8%\n",
       "1        Bike   3.9%\n",
       "2         SOV  66.2%\n",
       "3        HOV2   9.0%\n",
       "4       HOV3+   4.0%\n",
       "5     Transit   9.2%\n",
       "6  School Bus   0.0%"
      ]
     },
     "execution_count": 18,
     "metadata": {},
     "output_type": "execute_result"
    }
   ],
   "source": [
    "trip['Trip Type'] = 'Not Home-Based Work'\n",
    "trip.ix[(((trip['opurp']==0) & (trip['dpurp']==1)) | ((trip['opurp']==1) & (trip['dpurp']==0))),'Trip Type']= 'Home-Based Work'\n",
    "hbw_trips = trip.loc[trip['Trip Type']=='Home-Based Work']\n",
    "model_df_hbw = hbw_trips[['mode','trexpfac']].groupby(['mode']).sum()[['trexpfac']]/hbw_trips[['trexpfac']].sum()\n",
    "model_df_hbw.reset_index(inplace=True)\n",
    "mode_dict = {0:'Other',1:'Walk',2:'Bike',3:'SOV',4:'HOV2',5:'HOV3+',6:'Transit',8:'School Bus'}\n",
    "model_df_hbw.replace({'mode':mode_dict}, inplace=True)\n",
    "model_df_hbw.columns = ['mode', 'share']\n",
    "model_df_hbw"
   ]
  },
  {
   "cell_type": "code",
   "execution_count": 19,
   "metadata": {
    "collapsed": false
   },
   "outputs": [
    {
     "data": {
      "text/html": [
       "<div>\n",
       "<table border=\"1\" class=\"dataframe\">\n",
       "  <thead>\n",
       "    <tr style=\"text-align: right;\">\n",
       "      <th></th>\n",
       "      <th>mode</th>\n",
       "      <th>share</th>\n",
       "    </tr>\n",
       "  </thead>\n",
       "  <tbody>\n",
       "    <tr>\n",
       "      <th>0</th>\n",
       "      <td>Other</td>\n",
       "      <td>0.0%</td>\n",
       "    </tr>\n",
       "    <tr>\n",
       "      <th>1</th>\n",
       "      <td>Walk</td>\n",
       "      <td>20.9%</td>\n",
       "    </tr>\n",
       "    <tr>\n",
       "      <th>2</th>\n",
       "      <td>Bike</td>\n",
       "      <td>1.6%</td>\n",
       "    </tr>\n",
       "    <tr>\n",
       "      <th>3</th>\n",
       "      <td>SOV</td>\n",
       "      <td>32.2%</td>\n",
       "    </tr>\n",
       "    <tr>\n",
       "      <th>4</th>\n",
       "      <td>HOV2</td>\n",
       "      <td>23.2%</td>\n",
       "    </tr>\n",
       "    <tr>\n",
       "      <th>5</th>\n",
       "      <td>HOV3+</td>\n",
       "      <td>16.1%</td>\n",
       "    </tr>\n",
       "    <tr>\n",
       "      <th>6</th>\n",
       "      <td>Transit</td>\n",
       "      <td>3.7%</td>\n",
       "    </tr>\n",
       "    <tr>\n",
       "      <th>7</th>\n",
       "      <td>School Bus</td>\n",
       "      <td>2.4%</td>\n",
       "    </tr>\n",
       "  </tbody>\n",
       "</table>\n",
       "</div>"
      ],
      "text/plain": [
       "         mode  share\n",
       "0       Other   0.0%\n",
       "1        Walk  20.9%\n",
       "2        Bike   1.6%\n",
       "3         SOV  32.2%\n",
       "4        HOV2  23.2%\n",
       "5       HOV3+  16.1%\n",
       "6     Transit   3.7%\n",
       "7  School Bus   2.4%"
      ]
     },
     "execution_count": 19,
     "metadata": {},
     "output_type": "execute_result"
    }
   ],
   "source": [
    "nhbw_trips = trip.loc[trip['Trip Type']!='Home-Based Work']\n",
    "model_df_nhbw = nhbw_trips[['mode','trexpfac']].groupby(['mode']).sum()[['trexpfac']]/nhbw_trips[['trexpfac']].sum()\n",
    "model_df_nhbw.reset_index(inplace=True)\n",
    "mode_dict = {0:'Other',1:'Walk',2:'Bike',3:'SOV',4:'HOV2',5:'HOV3+',6:'Transit',8:'School Bus'}\n",
    "model_df_nhbw.replace({'mode':mode_dict}, inplace=True)\n",
    "model_df_nhbw.columns = ['mode', 'share']\n",
    "model_df_nhbw"
   ]
  }
 ],
 "metadata": {
  "anaconda-cloud": {},
  "kernelspec": {
   "display_name": "Python 2",
   "language": "python",
   "name": "python2"
  },
  "language_info": {
   "codemirror_mode": {
    "name": "ipython",
    "version": 2
   },
   "file_extension": ".py",
   "mimetype": "text/x-python",
   "name": "python",
   "nbconvert_exporter": "python",
   "pygments_lexer": "ipython2",
   "version": "2.7.13"
  }
 },
 "nbformat": 4,
 "nbformat_minor": 1
}
