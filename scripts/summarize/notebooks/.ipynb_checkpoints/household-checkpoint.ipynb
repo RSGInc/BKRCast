{
 "cells": [
  {
   "cell_type": "code",
   "execution_count": 79,
   "metadata": {
    "collapsed": false
   },
   "outputs": [
    {
     "name": "stdout",
     "output_type": "stream",
     "text": [
      "Populating the interactive namespace from numpy and matplotlib\n"
     ]
    },
    {
     "data": {
      "text/html": [
       "<script>\n",
       "code_show=true; \n",
       "function code_toggle() {\n",
       " if (code_show){\n",
       " $('div.input').hide();\n",
       " } else {\n",
       " $('div.input').show();\n",
       " }\n",
       " code_show = !code_show\n",
       "} \n",
       "$( document ).ready(code_toggle);\n",
       "</script>\n",
       "<form action=\"javascript:code_toggle()\"><input type=\"submit\" value=\"Click here to toggle on/off the raw code.\"></form>"
      ],
      "text/plain": [
       "<IPython.core.display.HTML object>"
      ]
     },
     "execution_count": 79,
     "metadata": {},
     "output_type": "execute_result"
    }
   ],
   "source": [
    "import os\n",
    "import numpy as np\n",
    "import pandas as pd\n",
    "import h5py\n",
    "import pylab as P\n",
    "\n",
    "# Show charts in notebook\n",
    "%pylab inline\n",
    "from IPython.display import display, HTML\n",
    "\n",
    "HTML('''<script>\n",
    "code_show=true; \n",
    "function code_toggle() {\n",
    " if (code_show){\n",
    " $('div.input').hide();\n",
    " } else {\n",
    " $('div.input').show();\n",
    " }\n",
    " code_show = !code_show\n",
    "} \n",
    "$( document ).ready(code_toggle);\n",
    "</script>\n",
    "<form action=\"javascript:code_toggle()\"><input type=\"submit\" value=\"Click here to toggle on/off the raw code.\"></form>''')"
   ]
  },
  {
   "cell_type": "code",
   "execution_count": 80,
   "metadata": {
    "collapsed": false
   },
   "outputs": [
    {
     "data": {
      "text/plain": [
       "'Z:\\\\Modeling Group\\\\BKRCast\\\\2035Parcel_fromPSRC\\\\LUV2_2035SCinputs\\\\LUV2_Refined_2035_SCInputs'"
      ]
     },
     "execution_count": 80,
     "metadata": {},
     "output_type": "execute_result"
    }
   ],
   "source": [
    "# Set main model directory to parent directory\n",
    "model_dir = r'Z:\\Modeling Group\\BKRCast\\2035Parcel_fromPSRC\\LUV2_2035SCinputs\\LUV2_Refined_2035_SCInputs'\n",
    "model_dir"
   ]
  },
  {
   "cell_type": "code",
   "execution_count": 81,
   "metadata": {
    "collapsed": false
   },
   "outputs": [],
   "source": [
    "# Read Model Scenario Results\n",
    "scen = h5py.File(model_dir + r'/hh_and_persons_bkr.h5','r+')\n",
    "scen_name = 'Model: 2035'"
   ]
  },
  {
   "cell_type": "code",
   "execution_count": 82,
   "metadata": {
    "collapsed": false
   },
   "outputs": [],
   "source": [
    "# Read Base Data\n",
    "base_dir = r'D:\\BKRCastCodeandTestBed\\BKRCast'\n",
    "base_file = r'/inputs/hh_and_persons.h5'\n",
    "\n",
    "base = h5py.File(base_dir + base_file ,'r+')\n",
    "base_name = 'Model: 2014'"
   ]
  },
  {
   "cell_type": "code",
   "execution_count": 83,
   "metadata": {
    "collapsed": true
   },
   "outputs": [],
   "source": [
    "####################\n",
    "# Household Size\n",
    "####################"
   ]
  },
  {
   "cell_type": "code",
   "execution_count": 84,
   "metadata": {
    "collapsed": false
   },
   "outputs": [],
   "source": [
    "# Summarize Household Size\n",
    "\n",
    "# Age distribution\n",
    "hhsize_scen = np.asarray(scen['Household']['hhsize'])\n",
    "hhsize_base = np.asarray(base['Household']['hhsize'])\n",
    "ages_scen = np.asarray(scen['Person']['pagey'])\n",
    "ages_base = np.asarray(base['Person']['pagey'])"
   ]
  },
  {
   "cell_type": "code",
   "execution_count": 85,
   "metadata": {
    "collapsed": false
   },
   "outputs": [
    {
     "data": {
      "text/plain": [
       "<matplotlib.legend.Legend at 0x12a3cc18>"
      ]
     },
     "execution_count": 85,
     "metadata": {},
     "output_type": "execute_result"
    },
    {
     "data": {
      "image/png": "[encoded data removed]",
      "text/plain": [
       "<matplotlib.figure.Figure at 0x12bff780>"
      ]
     },
     "metadata": {},
     "output_type": "display_data"
    }
   ],
   "source": [
    "# Household Size Distribution\n",
    "bins = ages_scen.max()\n",
    "\n",
    "# Set model results to boldest (alpha default to 1)\n",
    "P.hist(ages_scen, bins=bins, normed=True, histtype='step', color='b', label=scen_name)\n",
    "\n",
    "# Compare with survey estimates (alpha < 0.5); Currently using fake data...\n",
    "P.hist(ages_base, bins=bins, normed=True, histtype='step', color='grey', alpha=0.3, label=base_name)\n",
    "P.xlabel('Household Members')\n",
    "P.ylabel('Distribution')\n",
    "P.legend()"
   ]
  },
  {
   "cell_type": "code",
   "execution_count": 86,
   "metadata": {
    "collapsed": false
   },
   "outputs": [
    {
     "name": "stdout",
     "output_type": "stream",
     "text": [
      "Average household size for Scenario: 2.32\n",
      "Max household size for Scenario: 94\n"
     ]
    }
   ],
   "source": [
    "print \"Average household size for Scenario: \" + str(hhsize_scen.mean().round(3))\n",
    "print \"Max household size for Scenario: \" + str(bins)"
   ]
  },
  {
   "cell_type": "code",
   "execution_count": 87,
   "metadata": {
    "collapsed": true
   },
   "outputs": [],
   "source": [
    "####################\n",
    "# Household Income\n",
    "####################"
   ]
  },
  {
   "cell_type": "code",
   "execution_count": 88,
   "metadata": {
    "collapsed": false
   },
   "outputs": [],
   "source": [
    "# Summarize Household Income Distribution\n",
    "\n",
    "hhinc_scen = np.asarray(scen['Household']['hhincome'])\n",
    "hhinc_base = np.asarray(base['Household']['hhincome'])"
   ]
  },
  {
   "cell_type": "code",
   "execution_count": 89,
   "metadata": {
    "collapsed": false
   },
   "outputs": [
    {
     "data": {
      "text/plain": [
       "<matplotlib.legend.Legend at 0x12f180b8>"
      ]
     },
     "execution_count": 89,
     "metadata": {},
     "output_type": "execute_result"
    },
    {
     "data": {
      "image/png": "[encoded data removed]",
      "text/plain": [
       "<matplotlib.figure.Figure at 0x12b96ac8>"
      ]
     },
     "metadata": {},
     "output_type": "display_data"
    }
   ],
   "source": [
    "# Household Income Distribution\n",
    "bins = hhinc_scen.max()/10000\n",
    "\n",
    "# Set model results to boldest (alpha default to 1)\n",
    "P.hist(hhinc_scen, bins=bins, normed=True, histtype='step', color='b', label=scen_name)\n",
    "\n",
    "# Compare with survey estimates (alpha < 0.5); Currently using fake data...\n",
    "P.hist(hhinc_base, bins=bins, normed=True, histtype='step', color='grey', alpha=0.3, label=base_name)\n",
    "P.xlabel('Household Income')\n",
    "P.ylabel('Distribution')\n",
    "P.legend()"
   ]
  },
  {
   "cell_type": "code",
   "execution_count": 90,
   "metadata": {
    "collapsed": false
   },
   "outputs": [
    {
     "name": "stdout",
     "output_type": "stream",
     "text": [
      "Average household income for SCENARIO: 86990\n",
      "Average household income for BASE: 89953\n",
      "\n",
      "Median household income for SCNEARIO: 66041\n",
      "Median household income for BASE: 68610\n"
     ]
    }
   ],
   "source": [
    "print \"Average household income for SCENARIO: \" + str(int(hhinc_scen.mean()))\n",
    "print \"Average household income for BASE: \" + str(int(hhinc_base.mean()))\n",
    "print \"\"\n",
    "print \"Median household income for SCNEARIO: \" + str(int(np.median(hhinc_scen)))\n",
    "print \"Median household income for BASE: \" + str(int(np.median(hhinc_base)))"
   ]
  },
  {
   "cell_type": "code",
   "execution_count": 91,
   "metadata": {
    "collapsed": true
   },
   "outputs": [],
   "source": [
    "####################\n",
    "# Residence Type\n",
    "####################"
   ]
  },
  {
   "cell_type": "code",
   "execution_count": 92,
   "metadata": {
    "collapsed": false
   },
   "outputs": [],
   "source": [
    "# Worker type\n",
    "type_var = 'hrestype'    # Assuming this is same as base as in scenario\n",
    "\n",
    "hrestype_scen = np.asarray(scen['Household'][type_var])\n",
    "hrestype_base = np.asarray(base['Household'][type_var])\n",
    "\n",
    "restype_labels = {\n",
    "  0: \"Error\",  \n",
    "  1: \"Detached single house\",\n",
    "  2: \"Duplex/triplex/rowhouse\",\n",
    "  3: \"Apartment/condo\",\n",
    "  4: \"Mobile home/trailer\",\n",
    "  5: \"Dorm room/rented room\",\n",
    "  6: \"Other\",\n",
    "  9: \"Missing\",\n",
    "}"
   ]
  },
  {
   "cell_type": "code",
   "execution_count": 93,
   "metadata": {
    "collapsed": false
   },
   "outputs": [],
   "source": [
    "# Sum by residence type for scenario results\n",
    "df = pd.DataFrame(hrestype_scen, columns=[type_var])\n",
    "df['Residence Type'] = [restype_labels[x] for x in df[type_var].as_matrix()]\n",
    "\n",
    "# Ignore \"0\" (missing) response\n",
    "df = df.query(\"hrestype <> 0\")\n",
    "restypes_scen = df.groupby('Residence Type').count()[type_var]     # Sum by category\n",
    "restypes_scen = restypes_scen/restypes_scen.sum()     # Convert totals to shares"
   ]
  },
  {
   "cell_type": "code",
   "execution_count": 94,
   "metadata": {
    "collapsed": false
   },
   "outputs": [],
   "source": [
    "# Sum by worker type for base\n",
    "df = pd.DataFrame(hrestype_base, columns=[type_var])\n",
    "df['Residence Type'] = [restype_labels[x] for x in df[type_var].as_matrix()]\n",
    "\n",
    "# Ignore \"0\" (missing) response\n",
    "df = df.query(\"hrestype <> 0\")\n",
    "restypes_base = df.groupby('Residence Type').count()[type_var]    # Sum by category\n",
    "restypes_base = restypes_base/restypes_base.sum()     # Convert totals to shares"
   ]
  },
  {
   "cell_type": "code",
   "execution_count": 95,
   "metadata": {
    "collapsed": false
   },
   "outputs": [
    {
     "data": {
      "text/plain": [
       "<matplotlib.legend.Legend at 0x127b91d0>"
      ]
     },
     "execution_count": 95,
     "metadata": {},
     "output_type": "execute_result"
    },
    {
     "data": {
      "image/png": "[encoded data removed]",
      "text/plain": [
       "<matplotlib.figure.Figure at 0x127b9240>"
      ]
     },
     "metadata": {},
     "output_type": "display_data"
    }
   ],
   "source": [
    "# Set bar chart params\n",
    "ind = np.arange(len(restypes_scen))    # index array to match dataset size\n",
    "width = 0.3    # width of bars\n",
    "\n",
    "fig, ax = P.subplots()    # Initialize bar chart object\n",
    "\n",
    "res_scen = ax.bar(ind, restypes_base.values, width=width, color='b')    # plot scenario data\n",
    "res_base = ax.bar(ind+width, restypes_base.values, width=width, color='grey', alpha=0.3)    # plot base data (note the index offset by the bar width)\n",
    "ax.set_xticks(ind+width)   \n",
    "ax.set_xticklabels(restypes_scen.index, rotation=90)\n",
    "ax.set_title('Residence Types')\n",
    "\n",
    "ax.legend((res_scen, res_base), (scen_name, base_name))"
   ]
  },
  {
   "cell_type": "markdown",
   "metadata": {},
   "source": [
    "Total Households and Persons"
   ]
  },
  {
   "cell_type": "code",
   "execution_count": 96,
   "metadata": {
    "collapsed": true
   },
   "outputs": [],
   "source": [
    "def h5_to_df(h5_file, group_name):\n",
    "    \"\"\"\n",
    "    Converts the arrays in a H5 store to a Pandas DataFrame. \n",
    "    \"\"\"\n",
    "    col_dict = {}\n",
    "    h5_set = h5_file[group_name]\n",
    "    for col in h5_set.keys():\n",
    "        my_array = np.asarray(h5_set[col])\n",
    "        col_dict[col] = my_array\n",
    "    df = pd.DataFrame(col_dict)\n",
    "    return df\n"
   ]
  },
  {
   "cell_type": "code",
   "execution_count": 97,
   "metadata": {
    "collapsed": false
   },
   "outputs": [
    {
     "name": "stdout",
     "output_type": "stream",
     "text": [
      "Total household in Scenario: 1997535\n",
      "Total population in Scenario: 4634885\n",
      "Total household in Base: 1507573\n",
      "Total population in Base: 3745413\n"
     ]
    }
   ],
   "source": [
    "scen_hhs = h5_to_df(scen, 'Household')\n",
    "scen_persons = h5_to_df(scen, 'Person')\n",
    "tt_hhs = scen_hhs['hhexpfac'].sum()\n",
    "tt_pop = scen_hhs['hhsize'].sum()\n",
    "print 'Total household in Scenario: ' + str(tt_hhs)\n",
    "print 'Total population in Scenario: ' + str(tt_pop)\n",
    "\n",
    "base_hhs = h5_to_df(base, 'Household')\n",
    "#base_persons = h5_to_df(base, 'Pesron')\n",
    "tt_hhs_base = base_hhs['hhexpfac'].sum()\n",
    "tt_pop_base = base_hhs['hhsize'].sum()\n",
    "print 'Total household in Base: ' + str(tt_hhs_base)\n",
    "print 'Total population in Base: ' + str(tt_pop_base)"
   ]
  },
  {
   "cell_type": "code",
   "execution_count": 98,
   "metadata": {
    "collapsed": true
   },
   "outputs": [],
   "source": [
    "####################\n",
    "# Own vs. Rent\n",
    "####################"
   ]
  }
 ],
 "metadata": {
  "kernelspec": {
   "display_name": "Python 2",
   "language": "python",
   "name": "python2"
  },
  "language_info": {
   "codemirror_mode": {
    "name": "ipython",
    "version": 2
   },
   "file_extension": ".py",
   "mimetype": "text/x-python",
   "name": "python",
   "nbconvert_exporter": "python",
   "pygments_lexer": "ipython2",
   "version": "2.7.13"
  }
 },
 "nbformat": 4,
 "nbformat_minor": 0
}
